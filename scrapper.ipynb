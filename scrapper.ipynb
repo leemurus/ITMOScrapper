{
 "cells": [
  {
   "cell_type": "code",
   "execution_count": 1,
   "outputs": [
    {
     "name": "stdout",
     "output_type": "stream",
     "text": [
      "Collecting aiohttp\r\n",
      "  Using cached aiohttp-3.8.1-cp37-cp37m-macosx_10_9_x86_64.whl (570 kB)\r\n",
      "Collecting bs4\r\n",
      "  Using cached bs4-0.0.1-py3-none-any.whl\r\n",
      "Collecting matplotlib\r\n",
      "  Using cached matplotlib-3.5.1-cp37-cp37m-macosx_10_9_x86_64.whl (7.3 MB)\r\n",
      "Collecting numpy\r\n",
      "  Using cached numpy-1.21.5-cp37-cp37m-macosx_10_9_x86_64.whl (16.9 MB)\r\n",
      "Requirement already satisfied: attrs>=17.3.0 in ./venv/lib/python3.7/site-packages (from aiohttp) (21.4.0)\r\n",
      "Collecting multidict<7.0,>=4.5\r\n",
      "  Using cached multidict-6.0.2-cp37-cp37m-macosx_10_9_x86_64.whl (28 kB)\r\n",
      "Collecting charset-normalizer<3.0,>=2.0\r\n",
      "  Using cached charset_normalizer-2.0.12-py3-none-any.whl (39 kB)\r\n",
      "Collecting yarl<2.0,>=1.0\r\n",
      "  Using cached yarl-1.7.2-cp37-cp37m-macosx_10_9_x86_64.whl (120 kB)\r\n",
      "Collecting aiosignal>=1.1.2\r\n",
      "  Using cached aiosignal-1.2.0-py3-none-any.whl (8.2 kB)\r\n",
      "Collecting asynctest==0.13.0\r\n",
      "  Using cached asynctest-0.13.0-py3-none-any.whl (26 kB)\r\n",
      "Collecting frozenlist>=1.1.1\r\n",
      "  Using cached frozenlist-1.3.0-cp37-cp37m-macosx_10_9_x86_64.whl (35 kB)\r\n",
      "Requirement already satisfied: typing-extensions>=3.7.4 in ./venv/lib/python3.7/site-packages (from aiohttp) (4.1.1)\r\n",
      "Collecting async-timeout<5.0,>=4.0.0a3\r\n",
      "  Using cached async_timeout-4.0.2-py3-none-any.whl (5.8 kB)\r\n",
      "Collecting idna>=2.0\r\n",
      "  Using cached idna-3.3-py3-none-any.whl (61 kB)\r\n",
      "Collecting beautifulsoup4\r\n",
      "  Using cached beautifulsoup4-4.10.0-py3-none-any.whl (97 kB)\r\n",
      "Requirement already satisfied: pyparsing>=2.2.1 in ./venv/lib/python3.7/site-packages (from matplotlib) (3.0.7)\r\n",
      "Collecting kiwisolver>=1.0.1\r\n",
      "  Using cached kiwisolver-1.3.2-cp37-cp37m-macosx_10_9_x86_64.whl (61 kB)\r\n",
      "Requirement already satisfied: python-dateutil>=2.7 in ./venv/lib/python3.7/site-packages (from matplotlib) (2.8.2)\r\n",
      "Requirement already satisfied: packaging>=20.0 in ./venv/lib/python3.7/site-packages (from matplotlib) (21.3)\r\n",
      "Collecting cycler>=0.10\r\n",
      "  Using cached cycler-0.11.0-py3-none-any.whl (6.4 kB)\r\n",
      "Collecting pillow>=6.2.0\r\n",
      "  Using cached Pillow-9.0.1-cp37-cp37m-macosx_10_10_x86_64.whl (3.0 MB)\r\n",
      "Collecting fonttools>=4.22.0\r\n",
      "  Using cached fonttools-4.29.1-py3-none-any.whl (895 kB)\r\n",
      "Requirement already satisfied: six>=1.5 in ./venv/lib/python3.7/site-packages (from python-dateutil>=2.7->matplotlib) (1.16.0)\r\n",
      "Collecting soupsieve>1.2\r\n",
      "  Using cached soupsieve-2.3.1-py3-none-any.whl (37 kB)\r\n",
      "Installing collected packages: soupsieve, multidict, idna, frozenlist, yarl, pillow, numpy, kiwisolver, fonttools, cycler, charset-normalizer, beautifulsoup4, asynctest, async-timeout, aiosignal, matplotlib, bs4, aiohttp\r\n",
      "Successfully installed aiohttp-3.8.1 aiosignal-1.2.0 async-timeout-4.0.2 asynctest-0.13.0 beautifulsoup4-4.10.0 bs4-0.0.1 charset-normalizer-2.0.12 cycler-0.11.0 fonttools-4.29.1 frozenlist-1.3.0 idna-3.3 kiwisolver-1.3.2 matplotlib-3.5.1 multidict-6.0.2 numpy-1.21.5 pillow-9.0.1 soupsieve-2.3.1 yarl-1.7.2\r\n",
      "\u001B[33mWARNING: You are using pip version 21.1.2; however, version 22.0.3 is available.\r\n",
      "You should consider upgrading via the '/Users/leemurus/Programming/ITMOScrapper/venv/bin/python -m pip install --upgrade pip' command.\u001B[0m\r\n"
     ]
    }
   ],
   "source": [
    "!pip install aiohttp bs4 matplotlib numpy"
   ],
   "metadata": {
    "collapsed": false,
    "pycharm": {
     "name": "#%%\n"
    }
   }
  },
  {
   "cell_type": "code",
   "execution_count": 7,
   "outputs": [
    {
     "name": "stderr",
     "output_type": "stream",
     "text": [
      "INFO:__main__:Letters: 28\n",
      "INFO:__main__:Teachers number: 892\n",
      "WARNING:__main__:Retry request with arguments ('/ru/viewperson/489/blinova_irina_vladimirovna.htm',), {}\n",
      "WARNING:__main__:Retry request with arguments ('/ru/viewperson/834/kondrashova_nataliya_vladimirovna.htm',), {}\n",
      "WARNING:__main__:Retry request with arguments ('/ru/viewperson/219/krasavcev_valeriy_mihaylovich.htm',), {}\n",
      "WARNING:__main__:Retry request with arguments ('/ru/viewperson/1475/nikiforova_varvara_sergeevna.htm',), {}\n",
      "WARNING:__main__:Retry request with arguments ('/ru/viewperson/1254/yakovleva_mariya_vladimirovna.htm',), {}\n",
      "WARNING:__main__:Retry request with arguments ('/ru/viewperson/1974/seliverstov_nikita_dmitrievich.htm',), {}\n",
      "WARNING:__main__:Retry request with arguments ('/ru/viewperson/1522/kukina_elizaveta_yurevna.htm',), {}\n",
      "WARNING:__main__:Retry request with arguments ('/ru/viewperson/1595/muraveynikov_sergey_sergeevich.htm',), {}\n",
      "WARNING:__main__:Retry request with arguments ('/ru/viewperson/1913/hlopotov_maksim_valerevich.htm',), {}\n",
      "WARNING:__main__:Retry request with arguments ('/ru/viewperson/976/bogolyubov_nikolay_mihaylovich.htm',), {}\n",
      "WARNING:__main__:Retry request with arguments ('/ru/viewperson/352/goncharov_aleksandr_dmitrievich.htm',), {}\n",
      "WARNING:__main__:Retry request with arguments ('/ru/viewperson/1402/zagarskih_aleksandr_sergeevich.htm',), {}\n",
      "WARNING:__main__:Retry request with arguments ('/ru/viewperson/1430/samusevich_kseniya_leonidovna.htm',), {}\n",
      "WARNING:__main__:Retry request with arguments ('/ru/viewperson/1516/fedotova_anna_aleksandrovna.htm',), {}\n",
      "WARNING:__main__:Retry request with arguments ('/ru/viewperson/1948/nigmatullin_niyaz_gabdullazyanovich.htm',), {}\n",
      "WARNING:__main__:Retry request with arguments ('/ru/viewperson/1372/dorohin_denis_alekseevich.htm',), {}\n",
      "WARNING:__main__:Retry request with arguments ('/ru/viewperson/12/ivanov_andrey_viktorovich.htm',), {}\n",
      "WARNING:__main__:Retry request with arguments ('/ru/viewperson/3/stafeev_sergey_konstantinovich.htm',), {}\n",
      "WARNING:__main__:Retry request with arguments ('/ru/viewperson/739/budrin_aleksandr_germanovich.htm',), {}\n",
      "WARNING:__main__:Retry request with arguments ('/ru/viewperson/227/lapshina_irina_anatolevna.htm',), {}\n",
      "WARNING:__main__:Retry request with arguments ('/ru/viewperson/281/fedorov_anatoliy_valentinovich.htm',), {}\n",
      "WARNING:__main__:Retry request with arguments ('/ru/viewperson/1495/surkov_sergey_vyacheslavovich.htm',), {}\n",
      "WARNING:__main__:Retry request with arguments ('/ru/viewperson/1205/losickiy_igor_aleksandrovich.htm',), {}\n",
      "WARNING:__main__:Retry request with arguments ('/ru/viewperson/434/grudinin_vladimir_alekseevich.htm',), {}\n",
      "WARNING:__main__:Retry request with arguments ('/ru/viewperson/1413/shiker_anna_yurevna.htm',), {}\n",
      "WARNING:__main__:Retry request with arguments ('/ru/viewperson/1883/tikka_adeksandra_vladimirovna.htm',), {}\n",
      "WARNING:__main__:Retry request with arguments ('/ru/viewperson/1533/fedorenko_aleksey_vladimirovich.htm',), {}\n",
      "WARNING:__main__:Retry request with arguments ('/ru/viewperson/1114/gelfand_anna_olegovna.htm',), {}\n",
      "WARNING:__main__:Retry request with arguments ('/ru/viewperson/1573/paranicheva_lyubov_aleksandrovna.htm',), {}\n",
      "WARNING:__main__:Retry request with arguments ('/ru/viewperson/1113/kuftyrev_ilya_gennadevich.htm',), {}\n",
      "WARNING:__main__:Retry request with arguments ('/ru/viewperson/1951/kalashnikova_aleksandra_mihaylovna.htm',), {}\n",
      "WARNING:__main__:Retry request with arguments ('/ru/viewperson/507/miheev_sergey_vasilevich.htm',), {}\n",
      "WARNING:__main__:Retry request with arguments ('/ru/viewperson/1797/konyaeva_viktoriya_mihaylovna.htm',), {}\n",
      "WARNING:__main__:Retry request with arguments ('/ru/viewperson/451/rohmin_aleksey_sergeevich.htm',), {}\n",
      "WARNING:__main__:Retry request with arguments ('/ru/viewperson/1568/dorofeeva_svetlana_anatolevna.htm',), {}\n",
      "WARNING:__main__:Retry request with arguments ('/ru/viewperson/725/zhuk_denis_vladimirovich.htm',), {}\n",
      "WARNING:__main__:Retry request with arguments ('/ru/viewperson/1857/zhuk_anna_sergeevna.htm',), {}\n",
      "WARNING:__main__:Retry request with arguments ('/ru/viewperson/308/gorovoy_aleksandr_andreevich.htm',), {}\n",
      "WARNING:__main__:Retry request with arguments ('/ru/viewperson/1414/lucenko_anna_evgenevna.htm',), {}\n",
      "WARNING:__main__:Retry request with arguments ('/ru/viewperson/1545/egorova_olga_borisovna.htm',), {}\n",
      "WARNING:__main__:Retry request with arguments ('/ru/viewperson/1598/lipnickaya_svetlana_nikolaevna.htm',), {}\n",
      "WARNING:__main__:Retry request with arguments ('/ru/viewperson/842/ivanova_kristina_yurevna.htm',), {}\n",
      "WARNING:__main__:Retry request with arguments ('/ru/viewperson/1429/potapov_nikita_alekseevich.htm',), {}\n",
      "WARNING:__main__:Retry request with arguments ('/ru/viewperson/1557/tyurikova_ekaterina_pavlovna.htm',), {}\n",
      "WARNING:__main__:Retry request with arguments ('/ru/viewperson/1548/grafeeva_natalya_genrihovna.htm',), {}\n",
      "WARNING:__main__:Retry request with arguments ('/ru/viewperson/1913/hlopotov_maksim_valerevich.htm',), {}\n",
      "WARNING:__main__:Retry request with arguments ('/ru/viewperson/489/blinova_irina_vladimirovna.htm',), {}\n",
      "WARNING:__main__:Retry request with arguments ('/ru/viewperson/1430/samusevich_kseniya_leonidovna.htm',), {}\n",
      "WARNING:__main__:Retry request with arguments ('/ru/viewperson/1254/yakovleva_mariya_vladimirovna.htm',), {}\n",
      "WARNING:__main__:Retry request with arguments ('/ru/viewperson/219/krasavcev_valeriy_mihaylovich.htm',), {}\n",
      "WARNING:__main__:Retry request with arguments ('/ru/viewperson/834/kondrashova_nataliya_vladimirovna.htm',), {}\n",
      "WARNING:__main__:Retry request with arguments ('/ru/viewperson/800/trofimov_aleksandr.htm',), {}\n",
      "WARNING:__main__:Retry request with arguments ('/ru/viewperson/131/konyahin_igor_alekseevich.htm',), {}\n",
      "WARNING:__main__:Retry request with arguments ('/ru/viewperson/1248/kovalchuk_sergey_valerevich.htm',), {}\n",
      "WARNING:__main__:Retry request with arguments ('/ru/viewperson/1898/balabanova_yuliya_igorevna.htm',), {}\n",
      "WARNING:__main__:Retry request with arguments ('/ru/viewperson/1427/kutergina_evgeniya_andreevna.htm',), {}\n",
      "WARNING:__main__:Retry request with arguments ('/ru/viewperson/1854/duhinova_marina_sergeevna.htm',), {}\n",
      "WARNING:__main__:Retry request with arguments ('/ru/viewperson/1490/ovesnov_denis_aleksandrovich.htm',), {}\n",
      "WARNING:__main__:Retry request with arguments ('/ru/viewperson/1122/mityagin_sergey_aleksandrovich.htm',), {}\n",
      "WARNING:__main__:Retry request with arguments ('/ru/viewperson/1769/zhivickaya_yana_alievna.htm',), {}\n",
      "WARNING:__main__:Retry request with arguments ('/ru/viewperson/1595/muraveynikov_sergey_sergeevich.htm',), {}\n",
      "WARNING:__main__:Retry request with arguments ('/ru/viewperson/1522/kukina_elizaveta_yurevna.htm',), {}\n",
      "WARNING:__main__:Retry request with arguments ('/ru/viewperson/1402/zagarskih_aleksandr_sergeevich.htm',), {}\n",
      "WARNING:__main__:Retry request with arguments ('/ru/viewperson/434/grudinin_vladimir_alekseevich.htm',), {}\n",
      "WARNING:__main__:Retry request with arguments ('/ru/viewperson/1114/gelfand_anna_olegovna.htm',), {}\n",
      "WARNING:__main__:Retry request with arguments ('/ru/viewperson/227/lapshina_irina_anatolevna.htm',), {}\n",
      "WARNING:__main__:Retry request with arguments ('/ru/viewperson/1516/fedotova_anna_aleksandrovna.htm',), {}\n",
      "WARNING:__main__:Retry request with arguments ('/ru/viewperson/1372/dorohin_denis_alekseevich.htm',), {}\n",
      "WARNING:__main__:Retry request with arguments ('/ru/viewperson/725/zhuk_denis_vladimirovich.htm',), {}\n",
      "WARNING:__main__:Retry request with arguments ('/ru/viewperson/1113/kuftyrev_ilya_gennadevich.htm',), {}\n",
      "WARNING:__main__:Retry request with arguments ('/ru/viewperson/1414/lucenko_anna_evgenevna.htm',), {}\n",
      "WARNING:__main__:Retry request with arguments ('/ru/viewperson/1205/losickiy_igor_aleksandrovich.htm',), {}\n",
      "WARNING:__main__:Retry request with arguments ('/ru/viewperson/842/ivanova_kristina_yurevna.htm',), {}\n",
      "WARNING:__main__:Retry request with arguments ('/ru/viewperson/131/konyahin_igor_alekseevich.htm',), {}\n",
      "WARNING:__main__:Retry request with arguments ('/ru/viewperson/1769/zhivickaya_yana_alievna.htm',), {}\n",
      "WARNING:__main__:Retry request with arguments ('/ru/viewperson/1854/duhinova_marina_sergeevna.htm',), {}\n",
      "WARNING:__main__:Retry request with arguments ('/ru/viewperson/1402/zagarskih_aleksandr_sergeevich.htm',), {}\n",
      "WARNING:__main__:Retry request with arguments ('/ru/viewperson/1913/hlopotov_maksim_valerevich.htm',), {}\n",
      "WARNING:__main__:Retry request with arguments ('/ru/viewperson/434/grudinin_vladimir_alekseevich.htm',), {}\n",
      "WARNING:__main__:Retry request with arguments ('/ru/viewperson/1372/dorohin_denis_alekseevich.htm',), {}\n",
      "WARNING:__main__:Retry request with arguments ('/ru/viewperson/227/lapshina_irina_anatolevna.htm',), {}\n",
      "WARNING:__main__:Retry request with arguments ('/ru/viewperson/1113/kuftyrev_ilya_gennadevich.htm',), {}\n",
      "WARNING:__main__:Retry request with arguments ('/ru/viewperson/1516/fedotova_anna_aleksandrovna.htm',), {}\n",
      "WARNING:__main__:Retry request with arguments ('/ru/viewperson/842/ivanova_kristina_yurevna.htm',), {}\n",
      "WARNING:__main__:Retry request with arguments ('/ru/viewperson/1372/dorohin_denis_alekseevich.htm',), {}\n",
      "WARNING:__main__:Retry request with arguments ('/ru/viewperson/1113/kuftyrev_ilya_gennadevich.htm',), {}\n",
      "WARNING:__main__:Retry request with arguments ('/ru/viewperson/842/ivanova_kristina_yurevna.htm',), {}\n",
      "WARNING:__main__:Retry request with arguments ('/ru/viewperson/1516/fedotova_anna_aleksandrovna.htm',), {}\n"
     ]
    }
   ],
   "source": [
    "from datetime import datetime\n",
    "\n",
    "from bs4 import BeautifulSoup\n",
    "import aiohttp\n",
    "from aiohttp.client_exceptions import (\n",
    "    ServerDisconnectedError,\n",
    "    ClientConnectionError\n",
    ")\n",
    "import asyncio\n",
    "from functools import wraps\n",
    "import logging\n",
    "import re\n",
    "import itertools\n",
    "from typing import Iterable, Dict\n",
    "from urllib.parse import urljoin\n",
    "\n",
    "logging.basicConfig(level=logging.INFO)\n",
    "logger = logging.getLogger(__name__)\n",
    "\n",
    "\n",
    "class ServerError(Exception):\n",
    "    pass\n",
    "\n",
    "\n",
    "class ITMOScrapper:\n",
    "    BASE_URL = \"https://itmo.ru/\"\n",
    "    PERSONALII_POSTFIX = \"/ru/personlist/personalii.htm\"\n",
    "\n",
    "    ACADEMIC_DEGREE = \"ученая степень:\"\n",
    "    ACADEMIC_POSITION = \"должность:\"\n",
    "\n",
    "    RETRY_NUMBER = 20\n",
    "\n",
    "    def __init__(self, session: aiohttp.ClientSession):\n",
    "        self._session = session\n",
    "\n",
    "    def _retry(func):\n",
    "        @wraps(func)\n",
    "        async def wrapper(self, *args, **kwargs):\n",
    "            for retry_id in range(ITMOScrapper.RETRY_NUMBER):\n",
    "                try:\n",
    "                    result = await func(self, *args, **kwargs)\n",
    "                except (\n",
    "                        ServerDisconnectedError,\n",
    "                        ServerError,\n",
    "                        ClientConnectionError,\n",
    "                ) as e:\n",
    "                    if retry_id == ITMOScrapper.RETRY_NUMBER - 1:\n",
    "                        raise e\n",
    "\n",
    "                    logger.warning(\n",
    "                        f\"Retry request with arguments {args}, {kwargs}\"\n",
    "                    )\n",
    "                else:\n",
    "                    return result\n",
    "\n",
    "        return wrapper\n",
    "\n",
    "    async def _do_request2(self, postfix: str) -> str:\n",
    "        url = urljoin(self.BASE_URL, postfix)\n",
    "        async with self._session.get(url) as resp:\n",
    "            text = await resp.text()\n",
    "            return text\n",
    "\n",
    "    async def _do_request(self, postfix: str) -> str:\n",
    "        url = urljoin(self.BASE_URL, postfix)\n",
    "        async with aiohttp.ClientSession() as session:\n",
    "            async with session.get(url) as resp:\n",
    "                text = await resp.text()\n",
    "                return text\n",
    "\n",
    "    @_retry\n",
    "    async def fetch_letter_urls(self) -> Iterable[str]:\n",
    "        text = await self._do_request(self.PERSONALII_POSTFIX)\n",
    "        soup = BeautifulSoup(text, features=\"html.parser\")\n",
    "        objs = soup.select(\".b-page-nav li a\")\n",
    "        links = (obj.get(\"href\") for obj in objs)\n",
    "        return links\n",
    "\n",
    "    async def fetch_all_teachers(self, urls) -> Iterable[str]:\n",
    "        results = await asyncio.gather(*[\n",
    "            self.fetch_teachers_by_url(url) for url in urls\n",
    "        ])\n",
    "\n",
    "        urls = set()\n",
    "        for result in results:\n",
    "            urls.update(result)\n",
    "\n",
    "        return urls\n",
    "\n",
    "    @_retry\n",
    "    async def fetch_teachers_by_url(self, url) -> Iterable[str]:\n",
    "        text = await self._do_request(url)\n",
    "        soup = BeautifulSoup(text, features=\"html.parser\")\n",
    "\n",
    "        if not soup.find():\n",
    "            raise ServerError(\"Server error\")\n",
    "\n",
    "        objs = soup.select(\".main-content .phoneList article a\")\n",
    "        links = list(obj.get(\"href\") for obj in objs)\n",
    "\n",
    "        return links\n",
    "\n",
    "    async def fetch_all_teachers_details(self, urls):\n",
    "        return list(await asyncio.gather(*[\n",
    "            self.fetch_teacher_details(url) for url in urls\n",
    "        ]))\n",
    "\n",
    "    @_retry\n",
    "    async def fetch_teacher_details(self, url) -> Dict[str, any]:\n",
    "        text = await self._do_request(url)\n",
    "\n",
    "        soup = BeautifulSoup(text, features=\"html.parser\")\n",
    "        if not soup.find():\n",
    "            raise ServerError(\"Server error\")\n",
    "\n",
    "        degrees = await self._get_academic_degrees(soup)\n",
    "\n",
    "        positions = await self._get_academic_positions(soup)\n",
    "\n",
    "        publications_number = await self._get_publications_number(soup)\n",
    "\n",
    "        return {\n",
    "            \"url\": url,\n",
    "            \"degrees\": degrees,\n",
    "            \"positions\": positions,\n",
    "            \"publications_number\": publications_number,\n",
    "        }\n",
    "\n",
    "    async def _get_academic_degrees(\n",
    "            self, soup: BeautifulSoup,\n",
    "    ) -> Iterable[str]:\n",
    "        info = soup.select(\".c-personCard-details dl\")[0]\n",
    "\n",
    "        degrees = []\n",
    "        for line in info:\n",
    "            if line.text.strip().lower() == self.ACADEMIC_DEGREE:\n",
    "                degree = line.findNext(\"dd\").text.strip().lower()\n",
    "                degrees.append(re.sub(\" +\", \" \", degree))\n",
    "\n",
    "        return degrees\n",
    "\n",
    "    async def _get_academic_positions(\n",
    "            self, soup: BeautifulSoup,\n",
    "    ) -> Iterable[str]:\n",
    "        info = soup.select(\".c-personCard-details dl\")[1]\n",
    "\n",
    "        positions = []\n",
    "\n",
    "        for line in info:\n",
    "            if line.text.strip().lower() == self.ACADEMIC_POSITION:\n",
    "                cur_position = []\n",
    "                for inner_line in line.findNext(\"dd\").contents:\n",
    "                    if inner_line.name == \"br\":\n",
    "                        positions.append(\" \".join(cur_position))\n",
    "                        cur_position = []\n",
    "                        continue\n",
    "\n",
    "                    cur_position.append(inner_line.text.strip())\n",
    "\n",
    "                if cur_position:\n",
    "                    positions.append(\" \".join(cur_position))\n",
    "\n",
    "        return positions\n",
    "\n",
    "    async def _get_publications_number(self, soup: BeautifulSoup) -> int:\n",
    "        info = soup.select_one(\".nav-tabs a:contains(Публикации) .badge\")\n",
    "        return int(info.text) if info else 0\n",
    "\n",
    "\n",
    "session = None\n",
    "scrapper = ITMOScrapper(session)\n",
    "letter_urls = list(await scrapper.fetch_letter_urls())\n",
    "logger.info(f\"Letters: {len(letter_urls)}\")\n",
    "\n",
    "teachers_urls = list(await scrapper.fetch_all_teachers(letter_urls))\n",
    "logger.info(f\"Teachers number: {len(teachers_urls)}\")\n",
    "\n",
    "users = await scrapper.fetch_all_teachers_details(teachers_urls)"
   ],
   "metadata": {
    "collapsed": false,
    "pycharm": {
     "name": "#%%\n"
    }
   }
  },
  {
   "cell_type": "code",
   "execution_count": 8,
   "outputs": [
    {
     "name": "stderr",
     "output_type": "stream",
     "text": [
      "INFO:__main__:1. Employees with multiple positions:\n",
      "INFO:__main__:394\n"
     ]
    }
   ],
   "source": [
    "logger.info('1. Employees with multiple positions:')\n",
    "logger.info(len([\n",
    "    user['url'] for user in users if len(user['positions']) >= 2\n",
    "]))"
   ],
   "metadata": {
    "collapsed": false,
    "pycharm": {
     "name": "#%%\n"
    }
   }
  },
  {
   "cell_type": "code",
   "execution_count": 9,
   "outputs": [
    {
     "name": "stderr",
     "output_type": "stream",
     "text": [
      "INFO:__main__:2. Maximum number of positions for an employee:\n",
      "INFO:__main__:6\n"
     ]
    }
   ],
   "source": [
    "logger.info('2. Maximum number of positions for an employee:')\n",
    "logger.info(max(len(user[\"positions\"]) for user in users))\n"
   ],
   "metadata": {
    "collapsed": false,
    "pycharm": {
     "name": "#%%\n"
    }
   }
  },
  {
   "cell_type": "code",
   "execution_count": 11,
   "outputs": [
    {
     "name": "stderr",
     "output_type": "stream",
     "text": [
      "INFO:__main__:3. Number of employees with academic degrees:\n",
      "INFO:__main__:435\n"
     ]
    }
   ],
   "source": [
    "logger.info('3. Number of employees with academic degrees:')\n",
    "logger.info(sum(1 for user in users if user['degrees']))\n"
   ],
   "metadata": {
    "collapsed": false,
    "pycharm": {
     "name": "#%%\n"
    }
   }
  },
  {
   "cell_type": "code",
   "execution_count": 12,
   "outputs": [
    {
     "name": "stderr",
     "output_type": "stream",
     "text": [
      "INFO:__main__:4. Academic degrees:\n",
      "INFO:__main__:27\n"
     ]
    }
   ],
   "source": [
    "logger.info('4. Academic degrees:')\n",
    "logger.info(len(set(itertools.chain(*(user['degrees'] for user in users)))))"
   ],
   "metadata": {
    "collapsed": false,
    "pycharm": {
     "name": "#%%\n"
    }
   }
  },
  {
   "cell_type": "code",
   "execution_count": 13,
   "outputs": [
    {
     "data": {
      "text/plain": "<Figure size 432x288 with 1 Axes>",
      "image/png": "[encoded data removed]"
     },
     "metadata": {
      "needs_background": "light"
     },
     "output_type": "display_data"
    }
   ],
   "source": [
    "from collections import Counter\n",
    "import matplotlib.pyplot as plt\n",
    "import numpy as np\n",
    "\n",
    "counter = Counter(user['publications_number'] for user in users)\n",
    "x, y = np.hsplit(np.array(sorted(list(counter.items()), key=lambda x: x[0])), 2)\n",
    "\n",
    "plt.plot(x, y)\n",
    "plt.show()"
   ],
   "metadata": {
    "collapsed": false,
    "pycharm": {
     "name": "#%%\n"
    }
   }
  },
  {
   "cell_type": "code",
   "execution_count": 15,
   "outputs": [
    {
     "name": "stderr",
     "output_type": "stream",
     "text": [
      "INFO:__main__:6. Average publications number\n",
      "INFO:__main__:With a scientific degree: 82.19770114942528\n",
      "INFO:__main__:Without a scientific degree: 5.671772428884026\n"
     ]
    }
   ],
   "source": [
    "logger.info('6. Average publications number')\n",
    "with_degree = sum(1 for user in users if user['degrees'])\n",
    "publications_number_with_degr = sum(\n",
    "    user['publications_number']\n",
    "    for user in users\n",
    "    if user['degrees']\n",
    ")\n",
    "without_degree = sum(1 for user in users if not user['degrees'])\n",
    "publications_number_without_degr = sum(\n",
    "    user['publications_number']\n",
    "    for user in users\n",
    "    if not user['degrees']\n",
    ")\n",
    "avg_with_degr = publications_number_with_degr / with_degree\n",
    "avg_without_degr = publications_number_without_degr / without_degree\n",
    "\n",
    "logger.info(f'With a scientific degree: {avg_with_degr}')\n",
    "logger.info(f'Without a scientific degree: {avg_without_degr}')"
   ],
   "metadata": {
    "collapsed": false,
    "pycharm": {
     "name": "#%%\n"
    }
   }
  }
 ],
 "metadata": {
  "kernelspec": {
   "name": "python3",
   "language": "python",
   "display_name": "Python 3 (ipykernel)"
  }
 },
 "nbformat": 4,
 "nbformat_minor": 5
}